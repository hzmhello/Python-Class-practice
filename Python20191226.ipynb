{
 "cells": [
  {
   "cell_type": "raw",
   "metadata": {},
   "source": [
    "举例实战训练；2019年12月26日"
   ]
  },
  {
   "cell_type": "code",
   "execution_count": 4,
   "metadata": {},
   "outputs": [
    {
     "ename": "SyntaxError",
     "evalue": "invalid syntax (<ipython-input-4-8fb03a77df19>, line 1)",
     "output_type": "error",
     "traceback": [
      "\u001b[1;36m  File \u001b[1;32m\"<ipython-input-4-8fb03a77df19>\"\u001b[1;36m, line \u001b[1;32m1\u001b[0m\n\u001b[1;33m    form abc import ABC abstractmethod\u001b[0m\n\u001b[1;37m           ^\u001b[0m\n\u001b[1;31mSyntaxError\u001b[0m\u001b[1;31m:\u001b[0m invalid syntax\n"
     ]
    }
   ],
   "source": [
    "from abc import ABC abstractmethod\n",
    "#\n",
    "#\n",
    "\n",
    "class Board: \n",
    "    def __init__(self):\n",
    "        self,__model=[[0,0,0],[0,0,0],[0,0,0],]\n",
    "        \n",
    "    def add_move(self,position,color):\n",
    "            if self.__model[position[0]][position[1]]!=0:\n",
    "                return False\n",
    "            self.__model[position[0]][position[1]]=color\n",
    "            return True\n",
    "        \n",
    "            \n",
    "    def draw(self):  \n",
    "        print('---')\n",
    "        for row in self.__model:\n",
    "            for item in row:\n",
    "                if item ==-1:print('x',end='',sep='')\n",
    "                elif item==1:print('0',end='',sep='')\n",
    "                else:print('',end='',sep='')\n",
    "            print('')\n",
    "        print('---')\n",
    "                            \n",
    "    def get_model(self):\n",
    "        return self.__model\n",
    "    \n",
    "    \n",
    "class Player(ABC):#abstract base class\n",
    "    @abstractmethod\n",
    "    def move(self,model):\n",
    "        pass\n",
    "    \n",
    "class HumanPlayer(Player): \n",
    "    def move(self,model):\n",
    "        \n",
    "        \n",
    "        pass\n",
    "class AiPlayer(Player):\n",
    "    def move(self,model):\n",
    "        pass\n",
    "\n",
    "class Judge:\n",
    "    pass\n",
    "def test():\n",
    "    board=Board()\n",
    "    board.add_move((1,1),-1)\n",
    "    board.add_move((0,0),1)\n",
    "    board.draw()\n",
    "    \n",
    "    \n",
    "def run():\n",
    "    players=[player(),player()]\n",
    "    board =Board()\n",
    "    judge =Judge()\n",
    "    \n",
    "    board.draw()\n",
    "    \n",
    "    index=0\n",
    "    color=-1\n",
    "    while True:\n",
    "        position=players[index].move(board.get_model())\n",
    "        board.add_move(position,color)\n",
    "        board.draw()\n",
    "        judge.judge()\n",
    "        index=1-index\n",
    "        color=1*color\n",
    "        \n",
    "    \n",
    "    \n",
    "if __name__=='__main__':\n",
    "    test()\n",
    "    \n",
    "    \n",
    "    \n",
    "    \n",
    "    \n",
    "    \n",
    "    \n",
    "    "
   ]
  },
  {
   "cell_type": "code",
   "execution_count": null,
   "metadata": {},
   "outputs": [],
   "source": []
  },
  {
   "cell_type": "code",
   "execution_count": null,
   "metadata": {},
   "outputs": [],
   "source": []
  }
 ],
 "metadata": {
  "kernelspec": {
   "display_name": "Python 3",
   "language": "python",
   "name": "python3"
  },
  "language_info": {
   "codemirror_mode": {
    "name": "ipython",
    "version": 3
   },
   "file_extension": ".py",
   "mimetype": "text/x-python",
   "name": "python",
   "nbconvert_exporter": "python",
   "pygments_lexer": "ipython3",
   "version": "3.7.3"
  }
 },
 "nbformat": 4,
 "nbformat_minor": 4
}
